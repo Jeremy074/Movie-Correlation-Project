{
 "cells": [
  {
   "cell_type": "code",
   "execution_count": 1,
   "id": "947e95cd",
   "metadata": {
    "execution": {
     "iopub.execute_input": "2023-12-25T08:31:43.459344Z",
     "iopub.status.busy": "2023-12-25T08:31:43.458830Z",
     "iopub.status.idle": "2023-12-25T08:31:45.446013Z",
     "shell.execute_reply": "2023-12-25T08:31:45.444915Z"
    },
    "papermill": {
     "duration": 2.002368,
     "end_time": "2023-12-25T08:31:45.449154",
     "exception": false,
     "start_time": "2023-12-25T08:31:43.446786",
     "status": "completed"
    },
    "tags": []
   },
   "outputs": [],
   "source": [
    "import pandas as pd\n",
    "import seaborn as sns\n",
    "import numpy as np\n",
    "import matplotlib\n",
    "import matplotlib.pyplot as plt"
   ]
  },
  {
   "cell_type": "code",
   "execution_count": 2,
   "id": "6e02c0ad",
   "metadata": {
    "execution": {
     "iopub.execute_input": "2023-12-25T08:31:45.470748Z",
     "iopub.status.busy": "2023-12-25T08:31:45.470165Z",
     "iopub.status.idle": "2023-12-25T08:31:45.571985Z",
     "shell.execute_reply": "2023-12-25T08:31:45.570875Z"
    },
    "papermill": {
     "duration": 0.115919,
     "end_time": "2023-12-25T08:31:45.574775",
     "exception": false,
     "start_time": "2023-12-25T08:31:45.458856",
     "status": "completed"
    },
    "tags": []
   },
   "outputs": [],
   "source": [
    "df = pd.read_csv('/kaggle/input/movies/movies.csv')"
   ]
  },
  {
   "cell_type": "code",
   "execution_count": 3,
   "id": "dc1e8275",
   "metadata": {
    "execution": {
     "iopub.execute_input": "2023-12-25T08:31:45.595686Z",
     "iopub.status.busy": "2023-12-25T08:31:45.595070Z",
     "iopub.status.idle": "2023-12-25T08:31:45.637097Z",
     "shell.execute_reply": "2023-12-25T08:31:45.635860Z"
    },
    "papermill": {
     "duration": 0.055373,
     "end_time": "2023-12-25T08:31:45.639740",
     "exception": false,
     "start_time": "2023-12-25T08:31:45.584367",
     "status": "completed"
    },
    "tags": []
   },
   "outputs": [
    {
     "data": {
      "text/html": [
       "<div>\n",
       "<style scoped>\n",
       "    .dataframe tbody tr th:only-of-type {\n",
       "        vertical-align: middle;\n",
       "    }\n",
       "\n",
       "    .dataframe tbody tr th {\n",
       "        vertical-align: top;\n",
       "    }\n",
       "\n",
       "    .dataframe thead th {\n",
       "        text-align: right;\n",
       "    }\n",
       "</style>\n",
       "<table border=\"1\" class=\"dataframe\">\n",
       "  <thead>\n",
       "    <tr style=\"text-align: right;\">\n",
       "      <th></th>\n",
       "      <th>name</th>\n",
       "      <th>rating</th>\n",
       "      <th>genre</th>\n",
       "      <th>year</th>\n",
       "      <th>released</th>\n",
       "      <th>score</th>\n",
       "      <th>votes</th>\n",
       "      <th>director</th>\n",
       "      <th>writer</th>\n",
       "      <th>star</th>\n",
       "      <th>country</th>\n",
       "      <th>budget</th>\n",
       "      <th>gross</th>\n",
       "      <th>company</th>\n",
       "      <th>runtime</th>\n",
       "    </tr>\n",
       "  </thead>\n",
       "  <tbody>\n",
       "    <tr>\n",
       "      <th>0</th>\n",
       "      <td>The Shining</td>\n",
       "      <td>R</td>\n",
       "      <td>Drama</td>\n",
       "      <td>1980</td>\n",
       "      <td>June 13, 1980 (United States)</td>\n",
       "      <td>8.4</td>\n",
       "      <td>927000.0</td>\n",
       "      <td>Stanley Kubrick</td>\n",
       "      <td>Stephen King</td>\n",
       "      <td>Jack Nicholson</td>\n",
       "      <td>United Kingdom</td>\n",
       "      <td>19000000.0</td>\n",
       "      <td>46998772.0</td>\n",
       "      <td>Warner Bros.</td>\n",
       "      <td>146.0</td>\n",
       "    </tr>\n",
       "    <tr>\n",
       "      <th>1</th>\n",
       "      <td>The Blue Lagoon</td>\n",
       "      <td>R</td>\n",
       "      <td>Adventure</td>\n",
       "      <td>1980</td>\n",
       "      <td>July 2, 1980 (United States)</td>\n",
       "      <td>5.8</td>\n",
       "      <td>65000.0</td>\n",
       "      <td>Randal Kleiser</td>\n",
       "      <td>Henry De Vere Stacpoole</td>\n",
       "      <td>Brooke Shields</td>\n",
       "      <td>United States</td>\n",
       "      <td>4500000.0</td>\n",
       "      <td>58853106.0</td>\n",
       "      <td>Columbia Pictures</td>\n",
       "      <td>104.0</td>\n",
       "    </tr>\n",
       "    <tr>\n",
       "      <th>2</th>\n",
       "      <td>Star Wars: Episode V - The Empire Strikes Back</td>\n",
       "      <td>PG</td>\n",
       "      <td>Action</td>\n",
       "      <td>1980</td>\n",
       "      <td>June 20, 1980 (United States)</td>\n",
       "      <td>8.7</td>\n",
       "      <td>1200000.0</td>\n",
       "      <td>Irvin Kershner</td>\n",
       "      <td>Leigh Brackett</td>\n",
       "      <td>Mark Hamill</td>\n",
       "      <td>United States</td>\n",
       "      <td>18000000.0</td>\n",
       "      <td>538375067.0</td>\n",
       "      <td>Lucasfilm</td>\n",
       "      <td>124.0</td>\n",
       "    </tr>\n",
       "    <tr>\n",
       "      <th>3</th>\n",
       "      <td>Airplane!</td>\n",
       "      <td>PG</td>\n",
       "      <td>Comedy</td>\n",
       "      <td>1980</td>\n",
       "      <td>July 2, 1980 (United States)</td>\n",
       "      <td>7.7</td>\n",
       "      <td>221000.0</td>\n",
       "      <td>Jim Abrahams</td>\n",
       "      <td>Jim Abrahams</td>\n",
       "      <td>Robert Hays</td>\n",
       "      <td>United States</td>\n",
       "      <td>3500000.0</td>\n",
       "      <td>83453539.0</td>\n",
       "      <td>Paramount Pictures</td>\n",
       "      <td>88.0</td>\n",
       "    </tr>\n",
       "    <tr>\n",
       "      <th>4</th>\n",
       "      <td>Caddyshack</td>\n",
       "      <td>R</td>\n",
       "      <td>Comedy</td>\n",
       "      <td>1980</td>\n",
       "      <td>July 25, 1980 (United States)</td>\n",
       "      <td>7.3</td>\n",
       "      <td>108000.0</td>\n",
       "      <td>Harold Ramis</td>\n",
       "      <td>Brian Doyle-Murray</td>\n",
       "      <td>Chevy Chase</td>\n",
       "      <td>United States</td>\n",
       "      <td>6000000.0</td>\n",
       "      <td>39846344.0</td>\n",
       "      <td>Orion Pictures</td>\n",
       "      <td>98.0</td>\n",
       "    </tr>\n",
       "  </tbody>\n",
       "</table>\n",
       "</div>"
      ],
      "text/plain": [
       "                                             name rating      genre  year  \\\n",
       "0                                     The Shining      R      Drama  1980   \n",
       "1                                 The Blue Lagoon      R  Adventure  1980   \n",
       "2  Star Wars: Episode V - The Empire Strikes Back     PG     Action  1980   \n",
       "3                                       Airplane!     PG     Comedy  1980   \n",
       "4                                      Caddyshack      R     Comedy  1980   \n",
       "\n",
       "                        released  score      votes         director  \\\n",
       "0  June 13, 1980 (United States)    8.4   927000.0  Stanley Kubrick   \n",
       "1   July 2, 1980 (United States)    5.8    65000.0   Randal Kleiser   \n",
       "2  June 20, 1980 (United States)    8.7  1200000.0   Irvin Kershner   \n",
       "3   July 2, 1980 (United States)    7.7   221000.0     Jim Abrahams   \n",
       "4  July 25, 1980 (United States)    7.3   108000.0     Harold Ramis   \n",
       "\n",
       "                    writer            star         country      budget  \\\n",
       "0             Stephen King  Jack Nicholson  United Kingdom  19000000.0   \n",
       "1  Henry De Vere Stacpoole  Brooke Shields   United States   4500000.0   \n",
       "2           Leigh Brackett     Mark Hamill   United States  18000000.0   \n",
       "3             Jim Abrahams     Robert Hays   United States   3500000.0   \n",
       "4       Brian Doyle-Murray     Chevy Chase   United States   6000000.0   \n",
       "\n",
       "         gross             company  runtime  \n",
       "0   46998772.0        Warner Bros.    146.0  \n",
       "1   58853106.0   Columbia Pictures    104.0  \n",
       "2  538375067.0           Lucasfilm    124.0  \n",
       "3   83453539.0  Paramount Pictures     88.0  \n",
       "4   39846344.0      Orion Pictures     98.0  "
      ]
     },
     "execution_count": 3,
     "metadata": {},
     "output_type": "execute_result"
    }
   ],
   "source": [
    "df.head()"
   ]
  },
  {
   "cell_type": "markdown",
   "id": "12b5354d",
   "metadata": {
    "papermill": {
     "duration": 0.009432,
     "end_time": "2023-12-25T08:31:45.658743",
     "exception": false,
     "start_time": "2023-12-25T08:31:45.649311",
     "status": "completed"
    },
    "tags": []
   },
   "source": [
    "Let's see if there is any missing data"
   ]
  },
  {
   "cell_type": "code",
   "execution_count": 4,
   "id": "5737f2f6",
   "metadata": {
    "execution": {
     "iopub.execute_input": "2023-12-25T08:31:45.680433Z",
     "iopub.status.busy": "2023-12-25T08:31:45.680007Z",
     "iopub.status.idle": "2023-12-25T08:31:45.697903Z",
     "shell.execute_reply": "2023-12-25T08:31:45.696748Z"
    },
    "papermill": {
     "duration": 0.032028,
     "end_time": "2023-12-25T08:31:45.701047",
     "exception": false,
     "start_time": "2023-12-25T08:31:45.669019",
     "status": "completed"
    },
    "tags": []
   },
   "outputs": [
    {
     "data": {
      "text/plain": [
       "budget      2171\n",
       "gross        189\n",
       "rating        77\n",
       "company       17\n",
       "runtime        4\n",
       "score          3\n",
       "votes          3\n",
       "writer         3\n",
       "country        3\n",
       "released       2\n",
       "star           1\n",
       "name           0\n",
       "genre          0\n",
       "year           0\n",
       "director       0\n",
       "dtype: int64"
      ]
     },
     "execution_count": 4,
     "metadata": {},
     "output_type": "execute_result"
    }
   ],
   "source": [
    "df.isna().sum().sort_values(ascending=False)"
   ]
  },
  {
   "cell_type": "code",
   "execution_count": 5,
   "id": "26c0760a",
   "metadata": {
    "execution": {
     "iopub.execute_input": "2023-12-25T08:31:45.724085Z",
     "iopub.status.busy": "2023-12-25T08:31:45.723631Z",
     "iopub.status.idle": "2023-12-25T08:31:45.728515Z",
     "shell.execute_reply": "2023-12-25T08:31:45.727612Z"
    },
    "papermill": {
     "duration": 0.020176,
     "end_time": "2023-12-25T08:31:45.731048",
     "exception": false,
     "start_time": "2023-12-25T08:31:45.710872",
     "status": "completed"
    },
    "tags": []
   },
   "outputs": [],
   "source": [
    "# function to replace the missing attribute\n",
    "def fill_null(feature, replacement):\n",
    "    if pd.isnull(feature):\n",
    "        return replacement\n",
    "    return feature"
   ]
  },
  {
   "cell_type": "markdown",
   "id": "5709c9ac",
   "metadata": {
    "papermill": {
     "duration": 0.009512,
     "end_time": "2023-12-25T08:31:45.750422",
     "exception": false,
     "start_time": "2023-12-25T08:31:45.740910",
     "status": "completed"
    },
    "tags": []
   },
   "source": [
    "We replace the missing attributes of the gross with the average gross (imputation by the mean)."
   ]
  },
  {
   "cell_type": "code",
   "execution_count": 6,
   "id": "12bb2a11",
   "metadata": {
    "execution": {
     "iopub.execute_input": "2023-12-25T08:31:45.771986Z",
     "iopub.status.busy": "2023-12-25T08:31:45.771578Z",
     "iopub.status.idle": "2023-12-25T08:31:45.792085Z",
     "shell.execute_reply": "2023-12-25T08:31:45.790744Z"
    },
    "papermill": {
     "duration": 0.034652,
     "end_time": "2023-12-25T08:31:45.794848",
     "exception": false,
     "start_time": "2023-12-25T08:31:45.760196",
     "status": "completed"
    },
    "tags": []
   },
   "outputs": [],
   "source": [
    "mean_gross = df['gross'].mean()\n",
    "df['gross'] = [fill_null(t, mean_gross) for t in df['gross']]"
   ]
  },
  {
   "cell_type": "markdown",
   "id": "ca14784b",
   "metadata": {
    "papermill": {
     "duration": 0.009456,
     "end_time": "2023-12-25T08:31:45.814149",
     "exception": false,
     "start_time": "2023-12-25T08:31:45.804693",
     "status": "completed"
    },
    "tags": []
   },
   "source": [
    "We replace the missing attributes of the votes with the average votes (imputation by the mean)."
   ]
  },
  {
   "cell_type": "code",
   "execution_count": 7,
   "id": "f588b09d",
   "metadata": {
    "execution": {
     "iopub.execute_input": "2023-12-25T08:31:45.836270Z",
     "iopub.status.busy": "2023-12-25T08:31:45.835472Z",
     "iopub.status.idle": "2023-12-25T08:31:45.851895Z",
     "shell.execute_reply": "2023-12-25T08:31:45.850754Z"
    },
    "papermill": {
     "duration": 0.030607,
     "end_time": "2023-12-25T08:31:45.854638",
     "exception": false,
     "start_time": "2023-12-25T08:31:45.824031",
     "status": "completed"
    },
    "tags": []
   },
   "outputs": [
    {
     "data": {
      "text/plain": [
       "0"
      ]
     },
     "execution_count": 7,
     "metadata": {},
     "output_type": "execute_result"
    }
   ],
   "source": [
    "# We check is all the null from the gross features are imputed by the mean\n",
    "df.isnull().sum()['gross']"
   ]
  },
  {
   "cell_type": "code",
   "execution_count": 8,
   "id": "ff6b09be",
   "metadata": {
    "execution": {
     "iopub.execute_input": "2023-12-25T08:31:45.877161Z",
     "iopub.status.busy": "2023-12-25T08:31:45.876787Z",
     "iopub.status.idle": "2023-12-25T08:31:45.894779Z",
     "shell.execute_reply": "2023-12-25T08:31:45.893383Z"
    },
    "papermill": {
     "duration": 0.032303,
     "end_time": "2023-12-25T08:31:45.897558",
     "exception": false,
     "start_time": "2023-12-25T08:31:45.865255",
     "status": "completed"
    },
    "tags": []
   },
   "outputs": [],
   "source": [
    "mean_votes = df['votes'].mean()\n",
    "df['votes'] = [fill_null(t, mean_votes) for t in df['votes']]"
   ]
  },
  {
   "cell_type": "code",
   "execution_count": 9,
   "id": "2a4abd43",
   "metadata": {
    "execution": {
     "iopub.execute_input": "2023-12-25T08:31:45.920845Z",
     "iopub.status.busy": "2023-12-25T08:31:45.920464Z",
     "iopub.status.idle": "2023-12-25T08:31:45.938220Z",
     "shell.execute_reply": "2023-12-25T08:31:45.937347Z"
    },
    "papermill": {
     "duration": 0.032108,
     "end_time": "2023-12-25T08:31:45.940537",
     "exception": false,
     "start_time": "2023-12-25T08:31:45.908429",
     "status": "completed"
    },
    "tags": []
   },
   "outputs": [
    {
     "data": {
      "text/plain": [
       "0"
      ]
     },
     "execution_count": 9,
     "metadata": {},
     "output_type": "execute_result"
    }
   ],
   "source": [
    "# We check if all the null from the votes features are imputed by the mean\n",
    "df.isnull().sum()['votes']"
   ]
  },
  {
   "cell_type": "code",
   "execution_count": 10,
   "id": "36f027e4",
   "metadata": {
    "execution": {
     "iopub.execute_input": "2023-12-25T08:31:45.963163Z",
     "iopub.status.busy": "2023-12-25T08:31:45.962320Z",
     "iopub.status.idle": "2023-12-25T08:31:45.979737Z",
     "shell.execute_reply": "2023-12-25T08:31:45.978736Z"
    },
    "papermill": {
     "duration": 0.03145,
     "end_time": "2023-12-25T08:31:45.982078",
     "exception": false,
     "start_time": "2023-12-25T08:31:45.950628",
     "status": "completed"
    },
    "tags": []
   },
   "outputs": [],
   "source": [
    "mean_budget = df['budget'].mean()\n",
    "df['budget'] = [fill_null(t, mean_budget) for t in df['budget']]"
   ]
  },
  {
   "cell_type": "code",
   "execution_count": 11,
   "id": "8adf5296",
   "metadata": {
    "execution": {
     "iopub.execute_input": "2023-12-25T08:31:46.005224Z",
     "iopub.status.busy": "2023-12-25T08:31:46.004600Z",
     "iopub.status.idle": "2023-12-25T08:31:46.021159Z",
     "shell.execute_reply": "2023-12-25T08:31:46.019746Z"
    },
    "papermill": {
     "duration": 0.03186,
     "end_time": "2023-12-25T08:31:46.024043",
     "exception": false,
     "start_time": "2023-12-25T08:31:45.992183",
     "status": "completed"
    },
    "tags": []
   },
   "outputs": [
    {
     "data": {
      "text/plain": [
       "0"
      ]
     },
     "execution_count": 11,
     "metadata": {},
     "output_type": "execute_result"
    }
   ],
   "source": [
    "# We check if the previous function works\n",
    "df.isnull().sum()['votes']"
   ]
  },
  {
   "cell_type": "code",
   "execution_count": 12,
   "id": "5c3a5907",
   "metadata": {
    "execution": {
     "iopub.execute_input": "2023-12-25T08:31:46.046702Z",
     "iopub.status.busy": "2023-12-25T08:31:46.046274Z",
     "iopub.status.idle": "2023-12-25T08:31:46.062669Z",
     "shell.execute_reply": "2023-12-25T08:31:46.061388Z"
    },
    "papermill": {
     "duration": 0.030947,
     "end_time": "2023-12-25T08:31:46.065424",
     "exception": false,
     "start_time": "2023-12-25T08:31:46.034477",
     "status": "completed"
    },
    "tags": []
   },
   "outputs": [
    {
     "data": {
      "text/plain": [
       "votes     float64\n",
       "budget    float64\n",
       "gross     float64\n",
       "dtype: object"
      ]
     },
     "execution_count": 12,
     "metadata": {},
     "output_type": "execute_result"
    }
   ],
   "source": [
    "df.dtypes[['votes', 'budget', 'gross']]"
   ]
  },
  {
   "cell_type": "markdown",
   "id": "1e361d02",
   "metadata": {
    "papermill": {
     "duration": 0.010262,
     "end_time": "2023-12-25T08:31:46.086112",
     "exception": false,
     "start_time": "2023-12-25T08:31:46.075850",
     "status": "completed"
    },
    "tags": []
   },
   "source": [
    "We convert the budget, gross and votes data types to interger."
   ]
  },
  {
   "cell_type": "code",
   "execution_count": 13,
   "id": "27f1ad67",
   "metadata": {
    "execution": {
     "iopub.execute_input": "2023-12-25T08:31:46.110095Z",
     "iopub.status.busy": "2023-12-25T08:31:46.109693Z",
     "iopub.status.idle": "2023-12-25T08:31:46.117383Z",
     "shell.execute_reply": "2023-12-25T08:31:46.116271Z"
    },
    "papermill": {
     "duration": 0.023326,
     "end_time": "2023-12-25T08:31:46.120112",
     "exception": false,
     "start_time": "2023-12-25T08:31:46.096786",
     "status": "completed"
    },
    "tags": []
   },
   "outputs": [],
   "source": [
    "df['votes'] = df['votes'].astype('int64')\n",
    "df['budget'] = df['budget'].astype('int64')\n",
    "df['gross'] = df['gross'].astype('int64')"
   ]
  },
  {
   "cell_type": "code",
   "execution_count": 14,
   "id": "8df69e76",
   "metadata": {
    "execution": {
     "iopub.execute_input": "2023-12-25T08:31:46.143418Z",
     "iopub.status.busy": "2023-12-25T08:31:46.143002Z",
     "iopub.status.idle": "2023-12-25T08:31:46.152756Z",
     "shell.execute_reply": "2023-12-25T08:31:46.151395Z"
    },
    "papermill": {
     "duration": 0.024602,
     "end_time": "2023-12-25T08:31:46.155398",
     "exception": false,
     "start_time": "2023-12-25T08:31:46.130796",
     "status": "completed"
    },
    "tags": []
   },
   "outputs": [
    {
     "data": {
      "text/plain": [
       "votes     int64\n",
       "budget    int64\n",
       "gross     int64\n",
       "dtype: object"
      ]
     },
     "execution_count": 14,
     "metadata": {},
     "output_type": "execute_result"
    }
   ],
   "source": [
    "# We check if it works\n",
    "df.dtypes[['votes', 'budget', 'gross']]"
   ]
  },
  {
   "cell_type": "markdown",
   "id": "2ad76758",
   "metadata": {
    "papermill": {
     "duration": 0.010405,
     "end_time": "2023-12-25T08:31:46.176815",
     "exception": false,
     "start_time": "2023-12-25T08:31:46.166410",
     "status": "completed"
    },
    "tags": []
   },
   "source": [
    "Feature Engineering: Create correct year column. We will split compound strings"
   ]
  },
  {
   "cell_type": "code",
   "execution_count": 15,
   "id": "024552a0",
   "metadata": {
    "execution": {
     "iopub.execute_input": "2023-12-25T08:31:46.200568Z",
     "iopub.status.busy": "2023-12-25T08:31:46.200156Z",
     "iopub.status.idle": "2023-12-25T08:31:46.320407Z",
     "shell.execute_reply": "2023-12-25T08:31:46.319251Z"
    },
    "papermill": {
     "duration": 0.136351,
     "end_time": "2023-12-25T08:31:46.323731",
     "exception": false,
     "start_time": "2023-12-25T08:31:46.187380",
     "status": "completed"
    },
    "tags": []
   },
   "outputs": [],
   "source": [
    "df['Year'] = df['released'].str.split(',', expand=True)[1].str.split('(', expand=True)[0]"
   ]
  },
  {
   "cell_type": "code",
   "execution_count": 16,
   "id": "723fb077",
   "metadata": {
    "execution": {
     "iopub.execute_input": "2023-12-25T08:31:46.347073Z",
     "iopub.status.busy": "2023-12-25T08:31:46.346659Z",
     "iopub.status.idle": "2023-12-25T08:31:46.359477Z",
     "shell.execute_reply": "2023-12-25T08:31:46.358394Z"
    },
    "papermill": {
     "duration": 0.027468,
     "end_time": "2023-12-25T08:31:46.362166",
     "exception": false,
     "start_time": "2023-12-25T08:31:46.334698",
     "status": "completed"
    },
    "tags": []
   },
   "outputs": [
    {
     "data": {
      "text/plain": [
       "' 1980 '"
      ]
     },
     "execution_count": 16,
     "metadata": {},
     "output_type": "execute_result"
    }
   ],
   "source": [
    "# We can see there are spaces at the begining and at the end\n",
    "df['Year'].unique()[0]"
   ]
  },
  {
   "cell_type": "code",
   "execution_count": 17,
   "id": "2296fbea",
   "metadata": {
    "execution": {
     "iopub.execute_input": "2023-12-25T08:31:46.386758Z",
     "iopub.status.busy": "2023-12-25T08:31:46.385581Z",
     "iopub.status.idle": "2023-12-25T08:31:46.396149Z",
     "shell.execute_reply": "2023-12-25T08:31:46.394771Z"
    },
    "papermill": {
     "duration": 0.025701,
     "end_time": "2023-12-25T08:31:46.399065",
     "exception": false,
     "start_time": "2023-12-25T08:31:46.373364",
     "status": "completed"
    },
    "tags": []
   },
   "outputs": [],
   "source": [
    "# We want to remove this spaces\n",
    "df['Year'] = df['Year'].str.strip()"
   ]
  },
  {
   "cell_type": "code",
   "execution_count": 18,
   "id": "2cb2afbb",
   "metadata": {
    "execution": {
     "iopub.execute_input": "2023-12-25T08:31:46.422850Z",
     "iopub.status.busy": "2023-12-25T08:31:46.422421Z",
     "iopub.status.idle": "2023-12-25T08:31:46.427590Z",
     "shell.execute_reply": "2023-12-25T08:31:46.426271Z"
    },
    "papermill": {
     "duration": 0.019832,
     "end_time": "2023-12-25T08:31:46.430096",
     "exception": false,
     "start_time": "2023-12-25T08:31:46.410264",
     "status": "completed"
    },
    "tags": []
   },
   "outputs": [],
   "source": [
    "# pd.set_option('display.max_rows', None)"
   ]
  },
  {
   "cell_type": "code",
   "execution_count": 19,
   "id": "46817dab",
   "metadata": {
    "execution": {
     "iopub.execute_input": "2023-12-25T08:31:46.453284Z",
     "iopub.status.busy": "2023-12-25T08:31:46.452902Z",
     "iopub.status.idle": "2023-12-25T08:31:46.479913Z",
     "shell.execute_reply": "2023-12-25T08:31:46.478734Z"
    },
    "papermill": {
     "duration": 0.041824,
     "end_time": "2023-12-25T08:31:46.482759",
     "exception": false,
     "start_time": "2023-12-25T08:31:46.440935",
     "status": "completed"
    },
    "tags": []
   },
   "outputs": [
    {
     "data": {
      "text/html": [
       "<div>\n",
       "<style scoped>\n",
       "    .dataframe tbody tr th:only-of-type {\n",
       "        vertical-align: middle;\n",
       "    }\n",
       "\n",
       "    .dataframe tbody tr th {\n",
       "        vertical-align: top;\n",
       "    }\n",
       "\n",
       "    .dataframe thead th {\n",
       "        text-align: right;\n",
       "    }\n",
       "</style>\n",
       "<table border=\"1\" class=\"dataframe\">\n",
       "  <thead>\n",
       "    <tr style=\"text-align: right;\">\n",
       "      <th></th>\n",
       "      <th>name</th>\n",
       "      <th>rating</th>\n",
       "      <th>genre</th>\n",
       "      <th>year</th>\n",
       "      <th>released</th>\n",
       "      <th>score</th>\n",
       "      <th>votes</th>\n",
       "      <th>director</th>\n",
       "      <th>writer</th>\n",
       "      <th>star</th>\n",
       "      <th>country</th>\n",
       "      <th>budget</th>\n",
       "      <th>gross</th>\n",
       "      <th>company</th>\n",
       "      <th>runtime</th>\n",
       "      <th>Year</th>\n",
       "    </tr>\n",
       "  </thead>\n",
       "  <tbody>\n",
       "    <tr>\n",
       "      <th>5445</th>\n",
       "      <td>Avatar</td>\n",
       "      <td>PG-13</td>\n",
       "      <td>Action</td>\n",
       "      <td>2009</td>\n",
       "      <td>December 18, 2009 (United States)</td>\n",
       "      <td>7.8</td>\n",
       "      <td>1100000</td>\n",
       "      <td>James Cameron</td>\n",
       "      <td>James Cameron</td>\n",
       "      <td>Sam Worthington</td>\n",
       "      <td>United States</td>\n",
       "      <td>237000000</td>\n",
       "      <td>2847246203</td>\n",
       "      <td>Twentieth Century Fox</td>\n",
       "      <td>162.0</td>\n",
       "      <td>2009</td>\n",
       "    </tr>\n",
       "    <tr>\n",
       "      <th>7445</th>\n",
       "      <td>Avengers: Endgame</td>\n",
       "      <td>PG-13</td>\n",
       "      <td>Action</td>\n",
       "      <td>2019</td>\n",
       "      <td>April 26, 2019 (United States)</td>\n",
       "      <td>8.4</td>\n",
       "      <td>903000</td>\n",
       "      <td>Anthony Russo</td>\n",
       "      <td>Christopher Markus</td>\n",
       "      <td>Robert Downey Jr.</td>\n",
       "      <td>United States</td>\n",
       "      <td>356000000</td>\n",
       "      <td>2797501328</td>\n",
       "      <td>Marvel Studios</td>\n",
       "      <td>181.0</td>\n",
       "      <td>2019</td>\n",
       "    </tr>\n",
       "    <tr>\n",
       "      <th>3045</th>\n",
       "      <td>Titanic</td>\n",
       "      <td>PG-13</td>\n",
       "      <td>Drama</td>\n",
       "      <td>1997</td>\n",
       "      <td>December 19, 1997 (United States)</td>\n",
       "      <td>7.8</td>\n",
       "      <td>1100000</td>\n",
       "      <td>James Cameron</td>\n",
       "      <td>James Cameron</td>\n",
       "      <td>Leonardo DiCaprio</td>\n",
       "      <td>United States</td>\n",
       "      <td>200000000</td>\n",
       "      <td>2201647264</td>\n",
       "      <td>Twentieth Century Fox</td>\n",
       "      <td>194.0</td>\n",
       "      <td>1997</td>\n",
       "    </tr>\n",
       "    <tr>\n",
       "      <th>6663</th>\n",
       "      <td>Star Wars: Episode VII - The Force Awakens</td>\n",
       "      <td>PG-13</td>\n",
       "      <td>Action</td>\n",
       "      <td>2015</td>\n",
       "      <td>December 18, 2015 (United States)</td>\n",
       "      <td>7.8</td>\n",
       "      <td>876000</td>\n",
       "      <td>J.J. Abrams</td>\n",
       "      <td>Lawrence Kasdan</td>\n",
       "      <td>Daisy Ridley</td>\n",
       "      <td>United States</td>\n",
       "      <td>245000000</td>\n",
       "      <td>2069521700</td>\n",
       "      <td>Lucasfilm</td>\n",
       "      <td>138.0</td>\n",
       "      <td>2015</td>\n",
       "    </tr>\n",
       "    <tr>\n",
       "      <th>7244</th>\n",
       "      <td>Avengers: Infinity War</td>\n",
       "      <td>PG-13</td>\n",
       "      <td>Action</td>\n",
       "      <td>2018</td>\n",
       "      <td>April 27, 2018 (United States)</td>\n",
       "      <td>8.4</td>\n",
       "      <td>897000</td>\n",
       "      <td>Anthony Russo</td>\n",
       "      <td>Christopher Markus</td>\n",
       "      <td>Robert Downey Jr.</td>\n",
       "      <td>United States</td>\n",
       "      <td>321000000</td>\n",
       "      <td>2048359754</td>\n",
       "      <td>Marvel Studios</td>\n",
       "      <td>149.0</td>\n",
       "      <td>2018</td>\n",
       "    </tr>\n",
       "  </tbody>\n",
       "</table>\n",
       "</div>"
      ],
      "text/plain": [
       "                                            name rating   genre  year  \\\n",
       "5445                                      Avatar  PG-13  Action  2009   \n",
       "7445                           Avengers: Endgame  PG-13  Action  2019   \n",
       "3045                                     Titanic  PG-13   Drama  1997   \n",
       "6663  Star Wars: Episode VII - The Force Awakens  PG-13  Action  2015   \n",
       "7244                      Avengers: Infinity War  PG-13  Action  2018   \n",
       "\n",
       "                               released  score    votes       director  \\\n",
       "5445  December 18, 2009 (United States)    7.8  1100000  James Cameron   \n",
       "7445     April 26, 2019 (United States)    8.4   903000  Anthony Russo   \n",
       "3045  December 19, 1997 (United States)    7.8  1100000  James Cameron   \n",
       "6663  December 18, 2015 (United States)    7.8   876000    J.J. Abrams   \n",
       "7244     April 27, 2018 (United States)    8.4   897000  Anthony Russo   \n",
       "\n",
       "                  writer               star        country     budget  \\\n",
       "5445       James Cameron    Sam Worthington  United States  237000000   \n",
       "7445  Christopher Markus  Robert Downey Jr.  United States  356000000   \n",
       "3045       James Cameron  Leonardo DiCaprio  United States  200000000   \n",
       "6663     Lawrence Kasdan       Daisy Ridley  United States  245000000   \n",
       "7244  Christopher Markus  Robert Downey Jr.  United States  321000000   \n",
       "\n",
       "           gross                company  runtime  Year  \n",
       "5445  2847246203  Twentieth Century Fox    162.0  2009  \n",
       "7445  2797501328         Marvel Studios    181.0  2019  \n",
       "3045  2201647264  Twentieth Century Fox    194.0  1997  \n",
       "6663  2069521700              Lucasfilm    138.0  2015  \n",
       "7244  2048359754         Marvel Studios    149.0  2018  "
      ]
     },
     "execution_count": 19,
     "metadata": {},
     "output_type": "execute_result"
    }
   ],
   "source": [
    "df = df.sort_values(by=['gross'], inplace=False, ascending=False)\n",
    "df.head()"
   ]
  },
  {
   "cell_type": "markdown",
   "id": "736199d0",
   "metadata": {
    "papermill": {
     "duration": 0.010914,
     "end_time": "2023-12-25T08:31:46.505550",
     "exception": false,
     "start_time": "2023-12-25T08:31:46.494636",
     "status": "completed"
    },
    "tags": []
   },
   "source": [
    "We are checking if the are any duplicates"
   ]
  },
  {
   "cell_type": "code",
   "execution_count": 20,
   "id": "11b1bb78",
   "metadata": {
    "execution": {
     "iopub.execute_input": "2023-12-25T08:31:46.529651Z",
     "iopub.status.busy": "2023-12-25T08:31:46.528919Z",
     "iopub.status.idle": "2023-12-25T08:31:46.569917Z",
     "shell.execute_reply": "2023-12-25T08:31:46.568765Z"
    },
    "papermill": {
     "duration": 0.056451,
     "end_time": "2023-12-25T08:31:46.572972",
     "exception": false,
     "start_time": "2023-12-25T08:31:46.516521",
     "status": "completed"
    },
    "tags": []
   },
   "outputs": [
    {
     "data": {
      "text/html": [
       "<div>\n",
       "<style scoped>\n",
       "    .dataframe tbody tr th:only-of-type {\n",
       "        vertical-align: middle;\n",
       "    }\n",
       "\n",
       "    .dataframe tbody tr th {\n",
       "        vertical-align: top;\n",
       "    }\n",
       "\n",
       "    .dataframe thead th {\n",
       "        text-align: right;\n",
       "    }\n",
       "</style>\n",
       "<table border=\"1\" class=\"dataframe\">\n",
       "  <thead>\n",
       "    <tr style=\"text-align: right;\">\n",
       "      <th></th>\n",
       "      <th>name</th>\n",
       "      <th>rating</th>\n",
       "      <th>genre</th>\n",
       "      <th>year</th>\n",
       "      <th>released</th>\n",
       "      <th>score</th>\n",
       "      <th>votes</th>\n",
       "      <th>director</th>\n",
       "      <th>writer</th>\n",
       "      <th>star</th>\n",
       "      <th>country</th>\n",
       "      <th>budget</th>\n",
       "      <th>gross</th>\n",
       "      <th>company</th>\n",
       "      <th>runtime</th>\n",
       "      <th>Year</th>\n",
       "    </tr>\n",
       "  </thead>\n",
       "  <tbody>\n",
       "  </tbody>\n",
       "</table>\n",
       "</div>"
      ],
      "text/plain": [
       "Empty DataFrame\n",
       "Columns: [name, rating, genre, year, released, score, votes, director, writer, star, country, budget, gross, company, runtime, Year]\n",
       "Index: []"
      ]
     },
     "execution_count": 20,
     "metadata": {},
     "output_type": "execute_result"
    }
   ],
   "source": [
    "df[df.duplicated(keep=False)]\n",
    "# By setting keep on False,all duplicates are True"
   ]
  },
  {
   "cell_type": "markdown",
   "id": "c09857ae",
   "metadata": {
    "papermill": {
     "duration": 0.010921,
     "end_time": "2023-12-25T08:31:46.595278",
     "exception": false,
     "start_time": "2023-12-25T08:31:46.584357",
     "status": "completed"
    },
    "tags": []
   },
   "source": [
    "There is not duplicated"
   ]
  },
  {
   "cell_type": "markdown",
   "id": "ce17a5d2",
   "metadata": {
    "papermill": {
     "duration": 0.010879,
     "end_time": "2023-12-25T08:31:46.617370",
     "exception": false,
     "start_time": "2023-12-25T08:31:46.606491",
     "status": "completed"
    },
    "tags": []
   },
   "source": [
    "## Is budget correlated with gross?"
   ]
  },
  {
   "cell_type": "code",
   "execution_count": 21,
   "id": "b652976d",
   "metadata": {
    "execution": {
     "iopub.execute_input": "2023-12-25T08:31:46.642894Z",
     "iopub.status.busy": "2023-12-25T08:31:46.641173Z",
     "iopub.status.idle": "2023-12-25T08:31:47.025317Z",
     "shell.execute_reply": "2023-12-25T08:31:47.024383Z"
    },
    "papermill": {
     "duration": 0.399246,
     "end_time": "2023-12-25T08:31:47.027750",
     "exception": false,
     "start_time": "2023-12-25T08:31:46.628504",
     "status": "completed"
    },
    "tags": []
   },
   "outputs": [
    {
     "data": {
      "image/png": "[encoded data removed]",
      "text/plain": [
       "<Figure size 640x480 with 1 Axes>"
      ]
     },
     "metadata": {},
     "output_type": "display_data"
    }
   ],
   "source": [
    "plt.scatter(x=df['budget'], y=df['gross'])\n",
    "plt.title('Budget vs Gross Earnings')\n",
    "plt.xlabel('Gross Earning')\n",
    "plt.ylabel('Budget for film')\n",
    "plt.show()"
   ]
  },
  {
   "cell_type": "code",
   "execution_count": 22,
   "id": "1d075069",
   "metadata": {
    "execution": {
     "iopub.execute_input": "2023-12-25T08:31:47.055753Z",
     "iopub.status.busy": "2023-12-25T08:31:47.054613Z",
     "iopub.status.idle": "2023-12-25T08:31:47.067046Z",
     "shell.execute_reply": "2023-12-25T08:31:47.065694Z"
    },
    "papermill": {
     "duration": 0.029864,
     "end_time": "2023-12-25T08:31:47.069891",
     "exception": false,
     "start_time": "2023-12-25T08:31:47.040027",
     "status": "completed"
    },
    "tags": []
   },
   "outputs": [
    {
     "data": {
      "text/plain": [
       "0.7112703466796725"
      ]
     },
     "execution_count": 22,
     "metadata": {},
     "output_type": "execute_result"
    }
   ],
   "source": [
    "import scipy.stats as st\n",
    "st.pearsonr(df['gross'], df['budget'])[0]"
   ]
  }
 ],
 "metadata": {
  "kaggle": {
   "accelerator": "none",
   "dataSources": [
    {
     "datasetId": 4179918,
     "sourceId": 7221590,
     "sourceType": "datasetVersion"
    }
   ],
   "dockerImageVersionId": 30626,
   "isGpuEnabled": false,
   "isInternetEnabled": true,
   "language": "python",
   "sourceType": "notebook"
  },
  "kernelspec": {
   "display_name": "Python 3",
   "language": "python",
   "name": "python3"
  },
  "language_info": {
   "codemirror_mode": {
    "name": "ipython",
    "version": 3
   },
   "file_extension": ".py",
   "mimetype": "text/x-python",
   "name": "python",
   "nbconvert_exporter": "python",
   "pygments_lexer": "ipython3",
   "version": "3.10.12"
  },
  "papermill": {
   "default_parameters": {},
   "duration": 7.818645,
   "end_time": "2023-12-25T08:31:47.703147",
   "environment_variables": {},
   "exception": null,
   "input_path": "__notebook__.ipynb",
   "output_path": "__notebook__.ipynb",
   "parameters": {},
   "start_time": "2023-12-25T08:31:39.884502",
   "version": "2.4.0"
  }
 },
 "nbformat": 4,
 "nbformat_minor": 5
}
